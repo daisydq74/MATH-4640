{
  "nbformat": 4,
  "nbformat_minor": 0,
  "metadata": {
    "colab": {
      "provenance": [],
      "authorship_tag": "ABX9TyO2SbAvQSDIdun0kEr7TdYt",
      "include_colab_link": true
    },
    "kernelspec": {
      "name": "python3",
      "display_name": "Python 3"
    },
    "language_info": {
      "name": "python"
    }
  },
  "cells": [
    {
      "cell_type": "markdown",
      "metadata": {
        "id": "view-in-github",
        "colab_type": "text"
      },
      "source": [
        "<a href=\"https://colab.research.google.com/github/daisydq74/MATH-4640/blob/main/4640_HW2.ipynb\" target=\"_parent\"><img src=\"https://colab.research.google.com/assets/colab-badge.svg\" alt=\"Open In Colab\"/></a>"
      ]
    },
    {
      "cell_type": "code",
      "execution_count": null,
      "metadata": {
        "colab": {
          "base_uri": "https://localhost:8080/"
        },
        "id": "iQAI_-2vdoop",
        "outputId": "6785f9ae-5878-415a-9871-e87eca9e5abb"
      },
      "outputs": [
        {
          "output_type": "stream",
          "name": "stdout",
          "text": [
            "LU factors: \n",
            " (array([[ 15.        ,  52.        , -15.        ,   2.        ,\n",
            "        -32.        ],\n",
            "       [  0.93333333, -34.53333333,   5.        ,   1.13333333,\n",
            "         24.86666667],\n",
            "       [ -0.6       ,  -0.46911197,  29.34555985,  -3.26833977,\n",
            "          8.46525097],\n",
            "       [ -0.33333333,   0.42471042,   0.3024801 ,  50.17393593,\n",
            "         55.21163081],\n",
            "       [  0.2       ,   0.24324324,  -0.10959805,   0.91613544,\n",
            "         -0.30220508]]), array([1, 1, 2, 4, 4], dtype=int32))\n",
            "Solution x: \n",
            " [2.7000624e-14 1.0000000e+00 2.0000000e+00 3.0000000e+00 4.0000000e+00]\n"
          ]
        }
      ],
      "source": [
        "#import NumPy\n",
        "import numpy as np\n",
        "#import functions for LU decomposition\n",
        "from scipy.linalg import lu_factor, lu_solve\n",
        "\n",
        "# define matrix A and vector b\n",
        "A = np.array([[14, 14, -9, 3, -5],\n",
        "              [15, 52, -15, 2, -32],\n",
        "              [-9, -15, 36, -5, 16],\n",
        "              [3, 2, -5, 47, 49],\n",
        "              [-5, -32, 16, 49, 79]])\n",
        "\n",
        "b = np.array([-15, -100, 106, 329, 463])\n",
        "\n",
        "# do LU factorization\n",
        "lu= lu_factor(A)\n",
        "\n",
        "# solve for x using the LU factors and pivoting\n",
        "x = lu_solve(lu, b)\n",
        "\n",
        "# print the LU factors\n",
        "print(\"LU factors: \\n\", lu)\n",
        "#LU factors:\n",
        "#[[ 15.          52.         -15.           2.         -32.        ]\n",
        "#[  0.93333333 -34.53333333   5.           1.13333333  24.86666667]\n",
        "#[ -0.6         -0.46911197  29.34555985  -3.26833977   8.46525097]\n",
        "#[ -0.33333333   0.42471042   0.3024801   50.17393593  55.21163081]\n",
        "#[  0.2          0.24324324  -0.10959805   0.91613544  -0.30220508]]\n",
        "\n",
        "# print the solution x\n",
        "print(\"Solution x: \\n\", x)\n",
        "#Solution x:\n",
        "#[2.7000624e-14 1.0000000e+00 2.0000000e+00 3.0000000e+00 4.0000000e+00]"
      ]
    },
    {
      "cell_type": "code",
      "source": [
        "#import NumPy\n",
        "import numpy as np\n",
        "\n",
        "# define matrix A and vector b\n",
        "A = np.array([[14, 14, -9, 3, -5],\n",
        "              [15, 52, -15, 2, -32],\n",
        "              [-9, -15, 36, -5, 16],\n",
        "              [3, 2, -5, 47, 49],\n",
        "              [-5, -32, 16, 49, 79]])\n",
        "\n",
        "b = np.array([-15, -100, 106, 329, 463])\n",
        "n = len(A)\n",
        "\n",
        "# set the diagonals of L to be 1 and other entries 0\n",
        "L = [[0.0] * n for _ in range(n)]\n",
        "for i in range(n):\n",
        "    L[i][i] = 1.0\n",
        "\n",
        "# set U = A\n",
        "U = np.array([[14.0, 14.0, -9.0, 3.0, -5.0],\n",
        "              [15.0, 52.0, -15.0, 2.0, -32.0],\n",
        "              [-9.0, -15.0, 36.0, -5.0, 16.0],\n",
        "              [3.0, 2, -5.0, 47.0, 49.0],\n",
        "              [-5.0, -32.0, 16.0, 49.0, 79.0]])\n",
        "\n",
        "# determine L and U\n",
        "for i in range(n):\n",
        "    for j in range(i):\n",
        "        L[i][j] = U[i][j] / U[j][j]\n",
        "        for k in range(n):\n",
        "          U[i][k] -= L[i][j] * U[j][k]\n",
        "\n",
        "# define vector x, and y as n-vectors\n",
        "y = [0.0] * n\n",
        "x = [0.0] * n\n",
        "\n",
        "# Forward substitution (Ly = b)\n",
        "for i in range(n):\n",
        "    y[i] = b[i] - sum(L[i][j] * y[j] for j in range(i))\n",
        "\n",
        "# Backward substitution (Ux = y)\n",
        "for i in range(n - 1, -1, -1):\n",
        "    x[i] = (y[i] - sum(U[i][j] * x[j] for j in range(i + 1, n))) / U[i][i]\n",
        "\n",
        "# Print the LU factors\n",
        "print(\"L is: \", L)\n",
        "\n",
        "print(\"\\nU is: \", U)\n",
        "\n",
        "# Print the solution x\n",
        "print(\"\\nx is: \", x)\n",
        "\n",
        "G = np.array([[14, 14, -9, 3, -5],\n",
        "              [15, 52, -15, 2, -32],\n",
        "              [-9, -15, 36, -5, 16],\n",
        "              [3, 2, -5, 47, 49],\n",
        "              [-5, -32, 16, 49, 79]])\n",
        "\n",
        "print(np.dot(L, y))\n",
        "print(y)\n",
        "print(np.dot(G, x))\n"
      ],
      "metadata": {
        "colab": {
          "base_uri": "https://localhost:8080/"
        },
        "id": "hFr-VvW6nEbe",
        "outputId": "f10087ca-3fcb-4bc6-c4a5-f762d03ee414"
      },
      "execution_count": null,
      "outputs": [
        {
          "output_type": "stream",
          "name": "stdout",
          "text": [
            "L is:  [[1.0, 0.0, 0.0, 0.0, 0.0], [1.0714285714285714, 1.0, 0.0, 0.0, 0.0], [-0.6428571428571429, -0.16216216216216217, 1.0, 0.0, 0.0], [0.21428571428571427, -0.02702702702702703, -0.10959805275968686, 1.0, 0.0], [-0.35714285714285715, -0.7297297297297297, 0.3024800999934214, 1.0915416662492432, 1.0]]\n",
            "\n",
            "U is:  [[ 14.          14.          -9.           3.          -5.        ]\n",
            " [  0.          37.          -5.35714286  -1.21428571 -26.64285714]\n",
            " [  0.           0.          29.34555985  -3.26833977   8.46525097]\n",
            " [  0.           0.           0.          45.96612065  50.27912637]\n",
            " [  0.           0.           0.           0.           0.32986943]]\n",
            "\n",
            "x is:  [-5.08799351856786e-14, 1.0000000000001075, 1.9999999999999296, 2.9999999999998117, 4.000000000000172]\n",
            "[ -15. -100.  106.  329.  463.]\n",
            "[-15, -83.92857142857143, 82.74710424710425, 339.0148674429314, 1.3194777389296064]\n",
            "[ -15. -100.  106.  329.  463.]\n"
          ]
        }
      ]
    },
    {
      "cell_type": "code",
      "source": [
        "import numpy as np\n",
        "import scipy.linalg\n",
        "import time\n",
        "import matplotlib.pyplot as plt\n",
        "\n",
        "# create three definitions for each methods\n",
        "\n",
        "def solve_by_invert(A, b):\n",
        "  A_inver = np.linalg.inv(A)\n",
        "  return np.dot(A_inver, b)\n",
        "\n",
        "def solve_by_np(A, b):\n",
        "  return np.linalg.solve(A, b)\n",
        "\n",
        "def solve_by_lu(A, b):\n",
        "  n = len(A)\n",
        "  L = [[0.0] * n for _ in range(n)]\n",
        "  U = A\n",
        "  for i in range(n):\n",
        "      L[i][i] = 1.0\n",
        "  for i in range(n):\n",
        "      for j in range(i):\n",
        "          L[i][j] = U[i][j] / U[j][j]\n",
        "          for k in range(n):\n",
        "            U[i][k] -= L[i][j] * U[j][k]\n",
        "  y = [0.0] * n\n",
        "  x = [0.0] * n\n",
        "  for i in range(n):\n",
        "      y[i] = b[i] - sum(L[i][j] * y[j] for j in range(i))\n",
        "  for i in range(n - 1, -1, -1):\n",
        "      x[i] = (y[i] - sum(U[i][j] * x[j] for j in range(i + 1, n))) / U[i][i]\n",
        "  return x\n",
        "\n",
        "# identify the possible sizes\n",
        "sizes = [10, 50, 200]\n",
        "\n",
        "# initialize table contents\n",
        "methods = [\"Inversion\", \"NumPy\", \"LU Decomposition\"]\n",
        "timings = {method: [] for method in methods}\n",
        "start_time = 0\n",
        "\n",
        "# iterate through the sizes and get randomized A and b\n",
        "for n in sizes:\n",
        "  A = np.random.rand(n, n)\n",
        "  b = np.random.rand(n)\n",
        "\n",
        "  # run through each methods and get the timings\n",
        "  start_time = time.time()\n",
        "  solve_by_invert(A, b)\n",
        "  timings['Inversion'].append(time.time() - start_time)\n",
        "\n",
        "  start_time = time.time()\n",
        "  solve_by_np(A, b)\n",
        "  timings['NumPy'].append(time.time() - start_time)\n",
        "\n",
        "  start_time = time.time()\n",
        "  solve_by_lu(A, b)\n",
        "  timings['LU Decomposition'].append(time.time() - start_time)\n",
        "\n",
        "# plot the results\n",
        "for method in methods:\n",
        "  plt.loglog(sizes, timings[method], marker='o', label=method)\n",
        "\n",
        "plt.xlabel('matrix size')\n",
        "plt.ylabel('time/s')\n",
        "plt.legend()\n",
        "plt.show()\n",
        "\n",
        "\n",
        "\n",
        "\n",
        "\n",
        "\n"
      ],
      "metadata": {
        "colab": {
          "base_uri": "https://localhost:8080/",
          "height": 454
        },
        "id": "CmSl0eLD0sl_",
        "outputId": "1681efda-8c6c-404f-892f-62b0fe5f2d60"
      },
      "execution_count": null,
      "outputs": [
        {
          "output_type": "display_data",
          "data": {
            "text/plain": [
              "<Figure size 640x480 with 1 Axes>"
            ],
            "image/png": "[encoded data removed]"
          },
          "metadata": {}
        }
      ]
    }
  ]
}